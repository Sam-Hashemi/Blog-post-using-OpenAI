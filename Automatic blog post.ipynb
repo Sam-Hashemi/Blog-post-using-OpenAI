{
 "cells": [
  {
   "cell_type": "code",
   "execution_count": 66,
   "id": "6025909d",
   "metadata": {},
   "outputs": [],
   "source": [
    "from openai import OpenAI\n",
    "import openai\n",
    "import os"
   ]
  },
  {
   "cell_type": "code",
   "execution_count": 5,
   "id": "99ec3e41",
   "metadata": {},
   "outputs": [
    {
     "name": "stdout",
     "output_type": "stream",
     "text": [
      "Requirement already satisfied: GitPython in c:\\users\\samsa\\anaconda3\\lib\\site-packages (3.1.40)\n",
      "Requirement already satisfied: gitdb<5,>=4.0.1 in c:\\users\\samsa\\anaconda3\\lib\\site-packages (from GitPython) (4.0.11)\n",
      "Requirement already satisfied: smmap<6,>=3.0.1 in c:\\users\\samsa\\anaconda3\\lib\\site-packages (from gitdb<5,>=4.0.1->GitPython) (5.0.1)\n"
     ]
    }
   ],
   "source": [
    "! pip install GitPython"
   ]
  },
  {
   "cell_type": "code",
   "execution_count": 67,
   "id": "8204a5db",
   "metadata": {},
   "outputs": [],
   "source": [
    "from git import Repo"
   ]
  },
  {
   "cell_type": "code",
   "execution_count": 68,
   "id": "8ecbb33d",
   "metadata": {},
   "outputs": [],
   "source": [
    "os.environ['OPENAI_API_KEY'] = '###'"
   ]
  },
  {
   "cell_type": "code",
   "execution_count": 69,
   "id": "8038ee0c",
   "metadata": {},
   "outputs": [],
   "source": [
    "openai.api_key = os.getenv('OPENAI_API_KEY')"
   ]
  },
  {
   "cell_type": "code",
   "execution_count": 70,
   "id": "ee0a75b8",
   "metadata": {},
   "outputs": [],
   "source": [
    "from pathlib import Path"
   ]
  },
  {
   "cell_type": "code",
   "execution_count": 71,
   "id": "4e86c21b",
   "metadata": {},
   "outputs": [],
   "source": [
    "Path_to_blog_repo = Path('C:\\\\Users\\\\samsa\\\\Desktop\\\\Courses\\\\Github files\\\\Sam-Hashemi.github.io\\\\.git')"
   ]
  },
  {
   "cell_type": "code",
   "execution_count": 72,
   "id": "5297b796",
   "metadata": {},
   "outputs": [],
   "source": [
    "Path_to_blog =Path_to_blog_repo.parent"
   ]
  },
  {
   "cell_type": "code",
   "execution_count": 73,
   "id": "9eedecba",
   "metadata": {},
   "outputs": [
    {
     "data": {
      "text/plain": [
       "WindowsPath('C:/Users/samsa/Desktop/Courses/Github files/Sam-Hashemi.github.io')"
      ]
     },
     "execution_count": 73,
     "metadata": {},
     "output_type": "execute_result"
    }
   ],
   "source": [
    "Path_to_blog"
   ]
  },
  {
   "cell_type": "code",
   "execution_count": 85,
   "id": "94178a9b",
   "metadata": {},
   "outputs": [],
   "source": [
    "Path_to_content = Path_to_blog/'content'"
   ]
  },
  {
   "cell_type": "code",
   "execution_count": 87,
   "id": "c8abb2d9",
   "metadata": {},
   "outputs": [],
   "source": [
    "Path_to_content.mkdir(exist_ok=True, parents = True)"
   ]
  },
  {
   "cell_type": "code",
   "execution_count": 83,
   "id": "f74e635f",
   "metadata": {
    "scrolled": true
   },
   "outputs": [],
   "source": [
    "#Path_to_content.unlink()"
   ]
  },
  {
   "cell_type": "code",
   "execution_count": 88,
   "id": "5d6bd029",
   "metadata": {},
   "outputs": [
    {
     "data": {
      "text/plain": [
       "WindowsPath('C:/Users/samsa/Desktop/Courses/Github files/Sam-Hashemi.github.io/content')"
      ]
     },
     "execution_count": 88,
     "metadata": {},
     "output_type": "execute_result"
    }
   ],
   "source": [
    "Path_to_content"
   ]
  },
  {
   "cell_type": "code",
   "execution_count": 91,
   "id": "e61cae89",
   "metadata": {},
   "outputs": [
    {
     "data": {
      "text/plain": [
       "[]"
      ]
     },
     "execution_count": 91,
     "metadata": {},
     "output_type": "execute_result"
    }
   ],
   "source": [
    "#search the subtree and returns the results\n",
    "list(Path_to_content.glob('*.html'))"
   ]
  },
  {
   "cell_type": "code",
   "execution_count": 92,
   "id": "f177860a",
   "metadata": {},
   "outputs": [],
   "source": [
    "repo = Repo(Path_to_blog_repo)\n"
   ]
  },
  {
   "cell_type": "code",
   "execution_count": 93,
   "id": "0eae566a",
   "metadata": {},
   "outputs": [
    {
     "data": {
      "text/plain": [
       "''"
      ]
     },
     "execution_count": 93,
     "metadata": {},
     "output_type": "execute_result"
    }
   ],
   "source": [
    "repo.git.add(all = True)"
   ]
  },
  {
   "cell_type": "code",
   "execution_count": 136,
   "id": "83b7bc72",
   "metadata": {},
   "outputs": [],
   "source": [
    "def update_blog(commit_message = 'Updates blog'):\n",
    "    repo = Repo(Path_to_blog_repo)\n",
    "    repo.git.add(all=True)\n",
    "    repo.index.commit(commit_message)\n",
    "    origin = repo.remote(name = 'origin')\n",
    "    origin.push()"
   ]
  },
  {
   "cell_type": "code",
   "execution_count": 26,
   "id": "50a4ebde",
   "metadata": {},
   "outputs": [],
   "source": [
    "a_text = 'Sam is a good boy.html'"
   ]
  },
  {
   "cell_type": "code",
   "execution_count": 27,
   "id": "c8d64995",
   "metadata": {},
   "outputs": [],
   "source": [
    "with open(Path_to_blog/'index.html', 'w') as f:\n",
    "    f.write(a_text)"
   ]
  },
  {
   "cell_type": "code",
   "execution_count": 95,
   "id": "ecf45a92",
   "metadata": {},
   "outputs": [],
   "source": [
    "update_blog()"
   ]
  },
  {
   "cell_type": "code",
   "execution_count": 59,
   "id": "d1c2b732",
   "metadata": {},
   "outputs": [],
   "source": [
    "path_to_new_content = Path_to_content/'salam'"
   ]
  },
  {
   "cell_type": "code",
   "execution_count": 96,
   "id": "1a4fc2e0",
   "metadata": {},
   "outputs": [
    {
     "data": {
      "text/plain": [
       "WindowsPath('C:/Users/samsa/Desktop/Courses/Github files/Sam-Hashemi.github.io/content/salam')"
      ]
     },
     "execution_count": 96,
     "metadata": {},
     "output_type": "execute_result"
    }
   ],
   "source": [
    "path_to_new_content"
   ]
  },
  {
   "cell_type": "code",
   "execution_count": 97,
   "id": "6db7352c",
   "metadata": {},
   "outputs": [],
   "source": [
    "import shutil\n",
    "def create_new_blog(title, content, cover_image = 'logo.png'):\n",
    "    \n",
    "    cover_image = Path('C:\\\\Users\\\\samsa\\\\Desktop\\\\Courses\\\\Github files\\\\Sam-Hashemi.github.io\\\\'+cover_image)\n",
    "    \n",
    "    files =len(list(Path_to_content.glob(\"*.html\")))\n",
    "    new_title = f\"{files+1}.html\"\n",
    "    path_to_new_content = Path_to_content/new_title\n",
    "    \n",
    "    shutil.copy(cover_image, Path_to_content)\n",
    "    if not os.path.exists(path_to_new_content):\n",
    "        with open(path_to_new_content, \"w\") as f:\n",
    "            f.write(\"<!DOCTYPE html>\\n\")\n",
    "            f.write(\"<html>\\n\")\n",
    "            f.write(\"<head>\\n\")\n",
    "            f.write(f\"<title> {title} </title>\\n\")\n",
    "            f.write(\"</head>\\n\")\n",
    "            \n",
    "            f.write(\"<body>\\n\")\n",
    "            f.write(f\"<img src='{cover_image.name}' alt='Cover Image'> <br />\\n\")\n",
    "            f.write(f\"<h1> {title} </h1>\")\n",
    "            #OpenAI --> Completion GPT --> 'Hello\\nblogpost \\n'\n",
    "            f.write(content.replace(\"\\n\", \"<br />\\n\"))\n",
    "            f.write(\"</body>\\n\")\n",
    "            f.write(\"</html>\\n\")\n",
    "            print(\"Blog created\")\n",
    "            return path_to_new_content\n",
    "    else:\n",
    "        raise FileExistsError(\"File already exist! Abort\")"
   ]
  },
  {
   "cell_type": "code",
   "execution_count": 98,
   "id": "94187374",
   "metadata": {},
   "outputs": [
    {
     "name": "stdout",
     "output_type": "stream",
     "text": [
      "Blog created\n"
     ]
    }
   ],
   "source": [
    "path_to_new_content = create_new_blog('Test_title', 'Hi there, I am a black board', 'logo.png')"
   ]
  },
  {
   "cell_type": "code",
   "execution_count": 101,
   "id": "07d56d16",
   "metadata": {},
   "outputs": [
    {
     "name": "stdout",
     "output_type": "stream",
     "text": [
      "Requirement already satisfied: BeautifulSoup4 in c:\\users\\samsa\\anaconda3\\lib\\site-packages (4.9.3)\n",
      "Requirement already satisfied: soupsieve>1.2 in c:\\users\\samsa\\anaconda3\\lib\\site-packages (from BeautifulSoup4) (2.2.1)\n"
     ]
    }
   ],
   "source": [
    "!pip install BeautifulSoup4"
   ]
  },
  {
   "cell_type": "code",
   "execution_count": 102,
   "id": "81c96ddb",
   "metadata": {},
   "outputs": [],
   "source": [
    "from bs4 import BeautifulSoup as soup"
   ]
  },
  {
   "cell_type": "code",
   "execution_count": 106,
   "id": "6fe17551",
   "metadata": {},
   "outputs": [],
   "source": [
    "with open(Path_to_blog/'index.html') as index:\n",
    "    Soup = soup(index.read())"
   ]
  },
  {
   "cell_type": "code",
   "execution_count": 107,
   "id": "8ed692e9",
   "metadata": {},
   "outputs": [
    {
     "data": {
      "text/plain": [
       "<html lang=\"en\">\n",
       "<head>\n",
       "<meta charset=\"utf-8\"/>\n",
       "<meta content=\"width=device-width, initial-scale=1.0\" name=\"viewport\"/>\n",
       "<title>Document</title>\n",
       "</head>\n",
       "<body>\n",
       "<h1>My BLOG Home Page</h1>\n",
       "<a href=\"index.html\">Home</a>\n",
       "</body>\n",
       "</html>"
      ]
     },
     "execution_count": 107,
     "metadata": {},
     "output_type": "execute_result"
    }
   ],
   "source": [
    "Soup"
   ]
  },
  {
   "cell_type": "code",
   "execution_count": 128,
   "id": "45cf5681",
   "metadata": {},
   "outputs": [],
   "source": [
    "def check_for_duplicate_links(path_to_new_content, links):\n",
    "    urls = [str(link.get(\"href\")) for link in links] # [1.html, 2.html,...]\n",
    "    content_path = str(Path(*path_to_new_content.parts[-2:]))\n",
    "    #C\\Users\\smsaeed\\..\\1.html checks if there are matching names?\n",
    "    return content_path in urls"
   ]
  },
  {
   "cell_type": "code",
   "execution_count": 133,
   "id": "faf1ccd0",
   "metadata": {},
   "outputs": [],
   "source": [
    "def write_to_index(path_to_new_content):\n",
    "    with open(Path_to_blog/\"index.html\") as index:\n",
    "        Soup = soup(index.read())\n",
    "    \n",
    "    links = Soup.find_all('a')\n",
    "    last_link = links[-1]\n",
    "    \n",
    "    if check_for_duplicate_links(path_to_new_content, links):\n",
    "        raise ValueError(\"Link does already exist!\")\n",
    "        \n",
    "    link_to_new_blog = Soup.new_tag(\"a\", href=Path(*path_to_new_content.parts[-2:]))\n",
    "    link_to_new_blog.string = path_to_new_content.name.split(\".\")[0]\n",
    "    last_link.insert_after(link_to_new_blog)\n",
    "    \n",
    "    with open(Path_to_blog/\"index.html\", \"w\") as f:\n",
    "        f.write(str(Soup.prettify(formatter='html')))    "
   ]
  },
  {
   "cell_type": "code",
   "execution_count": 134,
   "id": "774516ca",
   "metadata": {},
   "outputs": [],
   "source": [
    "write_to_index(path_to_new_content)"
   ]
  },
  {
   "cell_type": "code",
   "execution_count": 137,
   "id": "713b1a64",
   "metadata": {},
   "outputs": [],
   "source": [
    "update_blog()"
   ]
  },
  {
   "cell_type": "code",
   "execution_count": 142,
   "id": "d1c0d3d9",
   "metadata": {},
   "outputs": [],
   "source": [
    "def create_prompt():\n",
    "    prompt =\"\"\"\n",
    "    A research paper:\n",
    "    Title:Numerical Simulation Of CO2 Storge In The Soft Sediments Of Depleted Reservoirs In The Gulf Of Mexico\n",
    "    \n",
    "    Keywords: Numerical simulation, CO2 storage, soft sediments, Geomechanics, reservoir modeling\n",
    "    \n",
    "    Abstract: Depleted oil and gas reservoirs are among the most popular formations for large-scale geologic CO2 storage. While extensive research and characterization have been conducted on the geological structure and physical properties of many of these fields, the lack of data and cores related to reservoir properties has hindered the assessment and modeling of CO2 storage, especially in offshore areas. In this study, we developed a coupled flow-geomechanics numerical model using CMG to evaluate the potential for storing CO2 in soft sediments of the West Delta field in the Gulf of Mexico. The poroelastic parameters of the reservoir rocks were measured in the laboratory and the geologic model of the reservoir was constructed based on the available seismic and well logs data. The process of reservoir depletion was simulated to consider the effect of porosity reduction and permeability change. The boundary condition was modified to reach the actual measured pressure in the reservoir after the depletion. The modified Cam-Clay model was used as the failure criterion to trace the porosity and subsidence change. The results showed that the porosity reduced during the depletion and then increased during the CO2 injection. However, the porosity did not fully recover after the injection process was completed. The maximum subsidence reached almost 24 cm at the well location once the depletion completed. The pressure build-up at fault zones varied based on the vicinity of faults to the injection well, fault dip and dip direction and CO2 injection rate. Sensitivity analysis using Fault Slip Potential (FSP) showed that various parameters such as SHmax orientation, friction coefficient and dip of the fault influenced the probability of fault slip, remarkedly. Assuming that faults are sealed, the pressure perturbation required to slip one of the major faults was lower than the calculated pressure build-up after the CO2 injection. Therefore, there is a possibility of reactivation in one of the major faults within the reservoir.  \n",
    "    \n",
    "    Sections:1-Introduction 2- Method 3-Results 4-Discussion 5-Conclusion\"\"\"\n",
    "    \n",
    "    return prompt\n",
    "    "
   ]
  },
  {
   "cell_type": "code",
   "execution_count": 143,
   "id": "acac47d9",
   "metadata": {},
   "outputs": [
    {
     "name": "stdout",
     "output_type": "stream",
     "text": [
      "\n",
      "    A research paper:\n",
      "    Title:Numerical Simulation Of CO2 Storge In The Soft Sediments Of Depleted Reservoirs In The Gulf Of Mexico\n",
      "    \n",
      "    Keywords: Numerical simulation, CO2 storage, soft sediments, Geomechanics, reservoir modeling\n",
      "    \n",
      "    Abstract: Depleted oil and gas reservoirs are among the most popular formations for large-scale geologic CO2 storage. While extensive research and characterization have been conducted on the geological structure and physical properties of many of these fields, the lack of data and cores related to reservoir properties has hindered the assessment and modeling of CO2 storage, especially in offshore areas. In this study, we developed a coupled flow-geomechanics numerical model using CMG to evaluate the potential for storing CO2 in soft sediments of the West Delta field in the Gulf of Mexico. The poroelastic parameters of the reservoir rocks were measured in the laboratory and the geologic model of the reservoir was constructed based on the available seismic and well logs data. The process of reservoir depletion was simulated to consider the effect of porosity reduction and permeability change. The boundary condition was modified to reach the actual measured pressure in the reservoir after the depletion. The modified Cam-Clay model was used as the failure criterion to trace the porosity and subsidence change. The results showed that the porosity reduced during the depletion and then increased during the CO2 injection. However, the porosity did not fully recover after the injection process was completed. The maximum subsidence reached almost 24 cm at the well location once the depletion completed. The pressure build-up at fault zones varied based on the vicinity of faults to the injection well, fault dip and dip direction and CO2 injection rate. Sensitivity analysis using Fault Slip Potential (FSP) showed that various parameters such as SHmax orientation, friction coefficient and dip of the fault influenced the probability of fault slip, remarkedly. Assuming that faults are sealed, the pressure perturbation required to slip one of the major faults was lower than the calculated pressure build-up after the CO2 injection. Therefore, there is a possibility of reactivation in one of the major faults within the reservoir.  \n",
      "    \n",
      "    Sections:1-Introduction 2- Method 3-Results 4-Discussion 5-Conclusion\n"
     ]
    }
   ],
   "source": [
    "print(create_prompt())"
   ]
  },
  {
   "cell_type": "code",
   "execution_count": 145,
   "id": "05a81544",
   "metadata": {},
   "outputs": [],
   "source": [
    "client = OpenAI(\n",
    "    # defaults to os.environ.get(\"OPENAI_API_KEY\")\n",
    "    api_key=openai.api_key,\n",
    ")"
   ]
  },
  {
   "cell_type": "code",
   "execution_count": 147,
   "id": "7bfb0b1c",
   "metadata": {},
   "outputs": [],
   "source": [
    "response = client.chat.completions.create(\n",
    "  model=\"gpt-4\",\n",
    "  messages=[{\"role\": \"system\", \"content\": \"You are an assistant helping me writing a research paper\"}, \n",
    "            {\"role\": \"user\", \"content\": create_prompt()},\n",
    "    {\"role\": \"assistant\", \"content\": \"1-Introduction: \"}], max_tokens = 6000, temperature=0.7\n",
    ")"
   ]
  },
  {
   "cell_type": "code",
   "execution_count": 148,
   "id": "e6134cf7",
   "metadata": {},
   "outputs": [],
   "source": [
    "results = response.choices[0].message.content"
   ]
  },
  {
   "cell_type": "code",
   "execution_count": 150,
   "id": "ee631027",
   "metadata": {},
   "outputs": [
    {
     "name": "stdout",
     "output_type": "stream",
     "text": [
      "The concept of carbon capture and storage (CCS) plays a critical role in climate change mitigation strategies. Depleted oil and gas reservoirs are particularly attractive for large-scale geologic CO2 storage due to their proven capacity to trap hydrocarbons for millions of years. However, the potential for storing CO2 in such reservoirs, especially those located offshore, is still not fully understood due to limitations in data and cores pertaining to reservoir properties. This paper focuses on the West Delta field in the Gulf of Mexico, characterized by its soft sediments, and aims to numerically simulate the effects of CO2 storage in such an environment.\n",
      "\n",
      "2-Method: \n",
      "A coupled flow-geomechanics numerical model was created using Computer Modeling Group’s (CMG) software. The geologic model was constructed based on available seismic and well logs data, and the poroelastic parameters of the reservoir rocks were measured in the laboratory. The process of reservoir depletion was simulated to consider the effects of porosity reduction and permeability change. A modified Cam-Clay model was used as the failure criterion to track porosity and subsidence changes.\n",
      "\n",
      "3-Results: \n",
      "The simulation results indicate a decrease in porosity during the depletion phase, followed by an increase during CO2 injection. However, the porosity did not fully recover post-injection. The maximum subsidence measured at the well location post-depletion was approximately 24 cm. Pressure build-up at fault zones was found to vary based on several factors including the proximity of faults to the injection well, fault dip and dip direction, and CO2 injection rate. \n",
      "\n",
      "4-Discussion: \n",
      "Our findings suggest that the potential for CO2 storage in soft sediments is influenced by various parameters including the orientation of the maximum horizontal stress (SHmax), friction coefficient, and dip of the fault. Sensitivity analysis using Fault Slip Potential (FSP) revealed that these parameters significantly impact the likelihood of fault slip. Assuming that faults are sealed, the pressure perturbation required to slip one of the major faults was found to be lower than the calculated pressure build-up after CO2 injection. \n",
      "\n",
      "5-Conclusion: \n",
      "The simulation of CO2 storage in the soft sediments of depleted reservoirs presents a possibility of reactivation in one of the major faults within the reservoir. Further research is needed to improve our understanding of the geomechanical behavior of reservoirs under CO2 storage and to develop strategies for safe and efficient CO2 sequestration.\n"
     ]
    }
   ],
   "source": [
    "print(results)"
   ]
  },
  {
   "cell_type": "code",
   "execution_count": 152,
   "id": "a7ae21a7",
   "metadata": {},
   "outputs": [],
   "source": [
    "response = client.chat.completions.create(\n",
    "  model=\"gpt-4-1106-preview\",\n",
    "  messages=[{\"role\": \"system\", \"content\": \"You are an assistant helping me writing a research paper\"}, \n",
    "            {\"role\": \"user\", \"content\": create_prompt()},\n",
    "    {\"role\": \"assistant\", \"content\": \"1-Introduction: \"}], temperature=0.2\n",
    ")"
   ]
  },
  {
   "cell_type": "code",
   "execution_count": 153,
   "id": "4867c0dc",
   "metadata": {},
   "outputs": [],
   "source": [
    "results_gpt4_turbo = response.choices[0].message.content"
   ]
  },
  {
   "cell_type": "code",
   "execution_count": 155,
   "id": "4dabd805",
   "metadata": {},
   "outputs": [
    {
     "name": "stdout",
     "output_type": "stream",
     "text": [
      "**1. Introduction**\n",
      "\n",
      "The urgency to mitigate climate change has led to the exploration of various carbon capture and storage (CCS) strategies, among which geologic CO2 storage in depleted oil and gas reservoirs presents a promising option. The Gulf of Mexico, with its extensive hydrocarbon production history, offers numerous depleted reservoirs that could potentially be repurposed for CO2 storage. These reservoirs, particularly those with soft sediments, pose unique challenges and opportunities for CO2 sequestration. Understanding the behavior of CO2 injection into such environments is crucial for ensuring storage efficacy and environmental safety. This paper aims to address the knowledge gap in the geomechanical response of soft sediment reservoirs to CO2 injection through numerical simulation, providing insights into the feasibility and risks associated with CO2 storage in the West Delta field of the Gulf of Mexico.\n",
      "\n",
      "**2. Method**\n",
      "\n",
      "The methodology section will detail the development of the coupled flow-geomechanics numerical model using Computer Modelling Group (CMG) software. It will describe the acquisition and incorporation of laboratory-measured poroelastic parameters into the model, as well as the construction of the geologic model based on seismic and well logs data. The simulation of reservoir depletion and its impact on porosity and permeability will be explained, followed by the modification of boundary conditions to reflect measured reservoir pressures post-depletion. The application of the modified Cam-Clay model as a failure criterion and the approach for sensitivity analysis using Fault Slip Potential (FSP) will also be elaborated.\n",
      "\n",
      "**3. Results**\n",
      "\n",
      "This section will present the findings from the numerical simulations. It will discuss the observed changes in porosity during the depletion and CO2 injection phases, as well as the extent of subsidence at the well location. The pressure build-up in fault zones and its variation with respect to fault proximity, orientation, and CO2 injection rate will be analyzed. The results of the sensitivity analysis on fault reactivation risk will be highlighted, focusing on the influence of maximum horizontal stress (SHmax) orientation, friction coefficient, and fault dip.\n",
      "\n",
      "**4. Discussion**\n",
      "\n",
      "The discussion will interpret the results in the context of CO2 storage in soft sediments. It will explore the implications of porosity changes and subsidence on storage capacity and integrity. The significance of pressure build-up in fault zones and the potential for fault reactivation will be critically examined, considering the assumptions of fault sealing and the calculated pressure perturbations. The discussion will also address the limitations of the study and the implications for future research and monitoring strategies.\n",
      "\n",
      "**5. Conclusion**\n",
      "\n",
      "The conclusion will summarize the key findings of the research, emphasizing the potential for CO2 storage in the soft sediments of the West Delta field and the associated geomechanical challenges. It will underscore the importance of comprehensive numerical modeling in assessing storage capacity, predicting subsidence, and evaluating the risk of fault reactivation. The paper will conclude with recommendations for future work to refine the understanding of CO2 storage in similar geological settings and to enhance the safety and effectiveness of CCS initiatives.\n"
     ]
    }
   ],
   "source": [
    "print(results_gpt4_turbo)"
   ]
  },
  {
   "cell_type": "code",
   "execution_count": 156,
   "id": "a16f199b",
   "metadata": {},
   "outputs": [],
   "source": [
    "with open('paper_by_gpt.txt', 'w') as f:\n",
    "    \n",
    "    f.write(results_gpt4_turbo)"
   ]
  },
  {
   "cell_type": "code",
   "execution_count": 158,
   "id": "3195d9f0",
   "metadata": {},
   "outputs": [],
   "source": [
    "with open('paper_by_gpt_old.txt', 'w') as f:\n",
    "    \n",
    "    f.write(results)"
   ]
  },
  {
   "cell_type": "code",
   "execution_count": 160,
   "id": "05b5d680",
   "metadata": {},
   "outputs": [],
   "source": [
    "def dalle2_prompt(title):\n",
    "    prompt = f\"A 3D image showing {title}\"\n",
    "    return prompt"
   ]
  },
  {
   "cell_type": "code",
   "execution_count": 161,
   "id": "2f2a8332",
   "metadata": {},
   "outputs": [],
   "source": [
    "title = 'CO2 storage in soft sediments'"
   ]
  },
  {
   "cell_type": "code",
   "execution_count": 163,
   "id": "9f07cdc9",
   "metadata": {},
   "outputs": [],
   "source": [
    "image_prompt = dalle2_prompt(title)"
   ]
  },
  {
   "cell_type": "code",
   "execution_count": 164,
   "id": "81374913",
   "metadata": {},
   "outputs": [],
   "source": [
    "response2 = client.images.generate(\n",
    "  model=\"dall-e-3\",\n",
    "  prompt=image_prompt,\n",
    "  size=\"1024x1024\",\n",
    "  quality=\"standard\",\n",
    "  n=1,\n",
    ")\n",
    "\n"
   ]
  },
  {
   "cell_type": "code",
   "execution_count": 165,
   "id": "d0eb4943",
   "metadata": {},
   "outputs": [],
   "source": [
    "image_url = response2.data[0].url"
   ]
  },
  {
   "cell_type": "code",
   "execution_count": 166,
   "id": "80f660d4",
   "metadata": {},
   "outputs": [
    {
     "data": {
      "text/plain": [
       "'https://oaidalleapiprodscus.blob.core.windows.net/private/org-s67JcamrCWRw6a4rkLsu2LMe/user-sK3HRjA3gGAHppXn3h41ldWx/img-TuESwmats9Jf3AED90YS3xyz.png?st=2023-11-29T17%3A23%3A02Z&se=2023-11-29T19%3A23%3A02Z&sp=r&sv=2021-08-06&sr=b&rscd=inline&rsct=image/png&skoid=6aaadede-4fb3-4698-a8f6-684d7786b067&sktid=a48cca56-e6da-484e-a814-9c849652bcb3&skt=2023-11-29T16%3A36%3A32Z&ske=2023-11-30T16%3A36%3A32Z&sks=b&skv=2021-08-06&sig=%2Bw9xhE%2BkHoLU4T/VugZQYHARwLd90aXUDUVpNXkdP1s%3D'"
      ]
     },
     "execution_count": 166,
     "metadata": {},
     "output_type": "execute_result"
    }
   ],
   "source": [
    "image_url"
   ]
  },
  {
   "cell_type": "code",
   "execution_count": 167,
   "id": "3fc2b171",
   "metadata": {},
   "outputs": [],
   "source": [
    "import requests\n",
    "def save_image(image_url, file_name):\n",
    "    image_res = requests.get(image_url, stream = True)\n",
    "    \n",
    "    if image_res.status_code ==200:\n",
    "        with open(file_name, 'wb') as f:\n",
    "            shutil.copyfileobj(image_res.raw, f)\n",
    "    else:\n",
    "        print('Error downloading the file')\n",
    "        \n",
    "    return image_res.status_code    "
   ]
  },
  {
   "cell_type": "code",
   "execution_count": 168,
   "id": "e65196cc",
   "metadata": {},
   "outputs": [
    {
     "data": {
      "text/plain": [
       "200"
      ]
     },
     "execution_count": 168,
     "metadata": {},
     "output_type": "execute_result"
    }
   ],
   "source": [
    "save_image(image_url, file_name='title2.png')"
   ]
  },
  {
   "cell_type": "code",
   "execution_count": 169,
   "id": "f37b58cd",
   "metadata": {},
   "outputs": [],
   "source": [
    "from PIL import Image"
   ]
  },
  {
   "cell_type": "code",
   "execution_count": 172,
   "id": "50307da5",
   "metadata": {},
   "outputs": [],
   "source": [
    "#Image.open('title2.png')"
   ]
  },
  {
   "cell_type": "code",
   "execution_count": 176,
   "id": "19ee6616",
   "metadata": {},
   "outputs": [
    {
     "name": "stdout",
     "output_type": "stream",
     "text": [
      "Blog created\n"
     ]
    }
   ],
   "source": [
    "path_to_new_content = create_new_blog(title, results, 'title2.png')"
   ]
  },
  {
   "cell_type": "code",
   "execution_count": 173,
   "id": "afc268b4",
   "metadata": {},
   "outputs": [
    {
     "data": {
      "text/plain": [
       "'CO2 storage in soft sediments'"
      ]
     },
     "execution_count": 173,
     "metadata": {},
     "output_type": "execute_result"
    }
   ],
   "source": [
    "title"
   ]
  },
  {
   "cell_type": "code",
   "execution_count": 177,
   "id": "067426d3",
   "metadata": {},
   "outputs": [],
   "source": [
    "write_to_index(path_to_new_content)"
   ]
  },
  {
   "cell_type": "code",
   "execution_count": 178,
   "id": "fdd3eadb",
   "metadata": {},
   "outputs": [],
   "source": [
    "update_blog()"
   ]
  },
  {
   "cell_type": "code",
   "execution_count": null,
   "id": "9438947f",
   "metadata": {},
   "outputs": [],
   "source": []
  }
 ],
 "metadata": {
  "kernelspec": {
   "display_name": "Python 3",
   "language": "python",
   "name": "python3"
  },
  "language_info": {
   "codemirror_mode": {
    "name": "ipython",
    "version": 3
   },
   "file_extension": ".py",
   "mimetype": "text/x-python",
   "name": "python",
   "nbconvert_exporter": "python",
   "pygments_lexer": "ipython3",
   "version": "3.8.8"
  }
 },
 "nbformat": 4,
 "nbformat_minor": 5
}
